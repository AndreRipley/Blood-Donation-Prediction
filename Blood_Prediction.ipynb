{
 "cells": [
  {
   "cell_type": "code",
   "execution_count": 1,
   "metadata": {},
   "outputs": [
    {
     "name": "stderr",
     "output_type": "stream",
     "text": [
      "Using TensorFlow backend.\n"
     ]
    }
   ],
   "source": [
    "import numpy as np\n",
    "from sklearn import preprocessing\n",
    "from keras.models import Sequential\n",
    "from keras.layers import Dense\n",
    "import pandas as pd"
   ]
  },
  {
   "cell_type": "code",
   "execution_count": 2,
   "metadata": {},
   "outputs": [],
   "source": [
    "def base_model():\n",
    "    model = Sequential()\n",
    "    model.add(Dense(32, input_dim=4, init ='uniform',activation='relu'))\n",
    "    model.add(Dense(16, init ='uniform',activation='relu'))\n",
    "    model.add(Dense(1, init ='uniform',activation='sigmoid'))\n",
    "    \n",
    "    model.conpile(loss='binary_crossentropy', optimizer='adam', metrics=['accuracy'])\n",
    "    return model\n",
    "\n"
   ]
  },
  {
   "cell_type": "code",
   "execution_count": 13,
   "metadata": {},
   "outputs": [],
   "source": [
    "def main():\n",
    "    df = pd.read_csv('/Users/Andre/desktop/Warm_Up_Predict_Blood_Donations_-_Traning_Data.csv')\n",
    "    df.columns = ['Months since Last Donation', 'Number of Donations', 'Total Volume Donated (c.c.)',\n",
    "                  'Months since First Donation', 'Made Donation in March 2007','']\n",
    "    \n",
    "     # new feature\n",
    "    Ratio = df['Months since Last Donation']/df['Months since First Donation']\n",
    "    df['Ratio'] = Ratio\n",
    "\n",
    "    # useless feature\n",
    "    df = df.drop(['Total Volume Donated (c.c.)'], 1)\n",
    "\n",
    "    # data for model\n",
    "    X = np.array(df.drop(['Made Donation in March 2007'], 1))\n",
    "    y = np.array(df['Made Donation in March 2007'])\n",
    "\n",
    "    # data scaling\n",
    "    X = preprocessing.scale(X)\n",
    "\n",
    "    # Fit the model\n",
    "    clf = baseline_model()\n",
    "    clf.fit(X, y, nb_epoch=12000, batch_size=10)\n",
    "\n",
    "    # evaluate the model\n",
    "    testdf = pd.read_csv('/Users/Andre/desktop/Warm_Up_Predict_Blood_Donations_-_Test_Data.csv')\n",
    "    testdf.columns = ['Id', 'Months since Last Donation', 'Number of Donations',\n",
    "                      'Total Volume Donated (c.c.)', 'Months since First Donation']\n",
    "\n",
    "    testdf['Ratio'] = testdf['Months since Last Donation']/testdf['Months since First Donation']\n",
    "\n",
    "    testdf = testdf.drop(['Total Volume Donated (c.c.)'], 1)\n",
    "\n",
    "    Xtest = preprocessing.scale(np.array(testdf.drop(['Id'], 1)))\n",
    "\n",
    "    Id = testdf['Id'].tolist()\n",
    "    predicted = [i[0] for i in clf.predict_proba(Xtest)]\n",
    "\n",
    "    pd.DataFrame({'': Id,\n",
    "                  'Made Donation in March 2007': predicted})\\\n",
    "        .to_csv(\"result/resultNN.csv\", sep=',', index=False)\n",
    "    "
   ]
  },
  {
   "cell_type": "code",
   "execution_count": 14,
   "metadata": {},
   "outputs": [
    {
     "ename": "NameError",
     "evalue": "name 'baseline_model' is not defined",
     "output_type": "error",
     "traceback": [
      "\u001b[0;31m---------------------------------------------------------------------------\u001b[0m",
      "\u001b[0;31mNameError\u001b[0m                                 Traceback (most recent call last)",
      "\u001b[0;32m<ipython-input-14-ec8b86d506aa>\u001b[0m in \u001b[0;36m<module>\u001b[0;34m()\u001b[0m\n\u001b[1;32m      1\u001b[0m \u001b[0;32mif\u001b[0m \u001b[0m__name__\u001b[0m\u001b[0;34m==\u001b[0m \u001b[0;34m\"__main__\"\u001b[0m\u001b[0;34m:\u001b[0m\u001b[0;34m\u001b[0m\u001b[0m\n\u001b[0;32m----> 2\u001b[0;31m     \u001b[0mmain\u001b[0m\u001b[0;34m(\u001b[0m\u001b[0;34m)\u001b[0m\u001b[0;34m\u001b[0m\u001b[0m\n\u001b[0m",
      "\u001b[0;32m<ipython-input-13-a82c7657c38f>\u001b[0m in \u001b[0;36mmain\u001b[0;34m()\u001b[0m\n\u001b[1;32m     19\u001b[0m \u001b[0;34m\u001b[0m\u001b[0m\n\u001b[1;32m     20\u001b[0m     \u001b[0;31m# Fit the model\u001b[0m\u001b[0;34m\u001b[0m\u001b[0;34m\u001b[0m\u001b[0m\n\u001b[0;32m---> 21\u001b[0;31m     \u001b[0mclf\u001b[0m \u001b[0;34m=\u001b[0m \u001b[0mbaseline_model\u001b[0m\u001b[0;34m(\u001b[0m\u001b[0;34m)\u001b[0m\u001b[0;34m\u001b[0m\u001b[0m\n\u001b[0m\u001b[1;32m     22\u001b[0m     \u001b[0mclf\u001b[0m\u001b[0;34m.\u001b[0m\u001b[0mfit\u001b[0m\u001b[0;34m(\u001b[0m\u001b[0mX\u001b[0m\u001b[0;34m,\u001b[0m \u001b[0my\u001b[0m\u001b[0;34m,\u001b[0m \u001b[0mnb_epoch\u001b[0m\u001b[0;34m=\u001b[0m\u001b[0;36m12000\u001b[0m\u001b[0;34m,\u001b[0m \u001b[0mbatch_size\u001b[0m\u001b[0;34m=\u001b[0m\u001b[0;36m10\u001b[0m\u001b[0;34m)\u001b[0m\u001b[0;34m\u001b[0m\u001b[0m\n\u001b[1;32m     23\u001b[0m \u001b[0;34m\u001b[0m\u001b[0m\n",
      "\u001b[0;31mNameError\u001b[0m: name 'baseline_model' is not defined"
     ]
    }
   ],
   "source": [
    "if __name__== \"__main__\":\n",
    "    main()"
   ]
  },
  {
   "cell_type": "code",
   "execution_count": null,
   "metadata": {},
   "outputs": [],
   "source": []
  }
 ],
 "metadata": {
  "kernelspec": {
   "display_name": "Python 3",
   "language": "python",
   "name": "python3"
  },
  "language_info": {
   "codemirror_mode": {
    "name": "ipython",
    "version": 3
   },
   "file_extension": ".py",
   "mimetype": "text/x-python",
   "name": "python",
   "nbconvert_exporter": "python",
   "pygments_lexer": "ipython3",
   "version": "3.6.4"
  }
 },
 "nbformat": 4,
 "nbformat_minor": 2
}
